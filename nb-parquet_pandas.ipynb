{
 "cells": [
  {
   "cell_type": "markdown",
   "metadata": {},
   "source": [
    "Importaremos o Pandas inicialmente."
   ]
  },
  {
   "cell_type": "code",
   "execution_count": 1,
   "metadata": {},
   "outputs": [],
   "source": [
    "import pandas as pd"
   ]
  },
  {
   "cell_type": "markdown",
   "metadata": {},
   "source": [
    "Criaremos um DataFrame com dados a serem salvos no Parquet."
   ]
  },
  {
   "cell_type": "code",
   "execution_count": 2,
   "metadata": {},
   "outputs": [],
   "source": [
    "pessoas_df = pd.DataFrame([\n",
    "    {\"nome\":\"Pedro\", \"idade\": 15},\n",
    "    {\"nome\":\"João\", \"idade\":30},\n",
    "    {\"nome\":\"Maria\", \"idade\":19},\n",
    "    {\"nome\":\"Marcelo\", \"idade\":18},\n",
    "    {\"nome\":\"Alex\", \"idade\":38},\n",
    "    {\"nome\":\"Otavio\", \"idade\":44},\n",
    "    {\"nome\":\"Ricardo\", \"idade\":23},\n",
    "    {\"nome\":\"Camila\", \"idade\":12},\n",
    "    {\"nome\":\"Alice\", \"idade\":24},\n",
    "    {\"nome\":\"Marlei\", \"idade\":32},\n",
    "    {\"nome\":\"Marilene\", \"idade\":56},\n",
    "    {\"nome\":\"Judite\", \"idade\":60},\n",
    "])"
   ]
  },
  {
   "cell_type": "markdown",
   "metadata": {},
   "source": [
    "Exibiremos os dados do DataFrame para conferir após salvar."
   ]
  },
  {
   "cell_type": "code",
   "execution_count": 3,
   "metadata": {
    "scrolled": true
   },
   "outputs": [
    {
     "name": "stdout",
     "output_type": "stream",
     "text": [
      "        nome  idade\n",
      "0      Pedro     15\n",
      "1       João     30\n",
      "2      Maria     19\n",
      "3    Marcelo     18\n",
      "4       Alex     38\n",
      "5     Otavio     44\n",
      "6    Ricardo     23\n",
      "7     Camila     12\n",
      "8      Alice     24\n",
      "9     Marlei     32\n",
      "10  Marilene     56\n",
      "11    Judite     60\n"
     ]
    }
   ],
   "source": [
    "print(pessoas_df)"
   ]
  },
  {
   "cell_type": "markdown",
   "metadata": {},
   "source": [
    "Salvaremos o DataFrame como um arquivo Parquet, basta definir um nome para o arquivo, mas outros paramêtros estão disponíveis, como por exemplo compressão."
   ]
  },
  {
   "cell_type": "code",
   "execution_count": 4,
   "metadata": {},
   "outputs": [],
   "source": [
    "pessoas_df.to_parquet(\"./pessoas.pq\")"
   ]
  },
  {
   "cell_type": "markdown",
   "metadata": {},
   "source": [
    "Após salvo, vamos carregar o arquivo Parquet que acabamos de criar para conferência, todas as informações serão preservadas."
   ]
  },
  {
   "cell_type": "code",
   "execution_count": 5,
   "metadata": {},
   "outputs": [],
   "source": [
    "parquet_df = pd.read_parquet(\"./pessoas.pq\")"
   ]
  },
  {
   "cell_type": "markdown",
   "metadata": {},
   "source": [
    "Por fim, vamos conferir os dados que acabamos de salvar. Como você pode observar, tudo é igual ao DataFrame anterior."
   ]
  },
  {
   "cell_type": "code",
   "execution_count": 6,
   "metadata": {},
   "outputs": [
    {
     "name": "stdout",
     "output_type": "stream",
     "text": [
      "        nome  idade\n",
      "0      Pedro     15\n",
      "1       João     30\n",
      "2      Maria     19\n",
      "3    Marcelo     18\n",
      "4       Alex     38\n",
      "5     Otavio     44\n",
      "6    Ricardo     23\n",
      "7     Camila     12\n",
      "8      Alice     24\n",
      "9     Marlei     32\n",
      "10  Marilene     56\n",
      "11    Judite     60\n"
     ]
    }
   ],
   "source": [
    "print(parquet_df)"
   ]
  }
 ],
 "metadata": {
  "kernelspec": {
   "display_name": "Python 3",
   "language": "python",
   "name": "python3"
  },
  "language_info": {
   "codemirror_mode": {
    "name": "ipython",
    "version": 3
   },
   "file_extension": ".py",
   "mimetype": "text/x-python",
   "name": "python",
   "nbconvert_exporter": "python",
   "pygments_lexer": "ipython3",
   "version": "3.8.2"
  }
 },
 "nbformat": 4,
 "nbformat_minor": 4
}
