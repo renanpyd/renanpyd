{
 "cells": [
  {
   "cell_type": "markdown",
   "metadata": {},
   "source": [
    "Iniciaremos importando alguns itens para conectar ao Spark."
   ]
  },
  {
   "cell_type": "code",
   "execution_count": 1,
   "metadata": {},
   "outputs": [],
   "source": [
    "from pyspark.sql import SparkSession, Row"
   ]
  },
  {
   "cell_type": "markdown",
   "metadata": {},
   "source": [
    "Criaremos uma sessão com o Spark."
   ]
  },
  {
   "cell_type": "code",
   "execution_count": 2,
   "metadata": {},
   "outputs": [],
   "source": [
    "spark = SparkSession.builder.appName(\"demo-app\").getOrCreate()"
   ]
  },
  {
   "cell_type": "markdown",
   "metadata": {},
   "source": [
    "Criaremos um DataFrame com dados a serem salvos."
   ]
  },
  {
   "cell_type": "code",
   "execution_count": 3,
   "metadata": {},
   "outputs": [],
   "source": [
    "pessoas_df = spark.createDataFrame([\n",
    "    Row(nome=\"Pedro\", idade=15),\n",
    "    Row(nome=\"João\", idade=30),\n",
    "    Row(nome=\"Maria\", idade=19),\n",
    "    Row(nome=\"Marcelo\", idade=18),\n",
    "    Row(nome=\"Alex\", idade=38),\n",
    "    Row(nome=\"Otavio\", idade=44),\n",
    "    Row(nome=\"Ricardo\", idade=23),\n",
    "    Row(nome=\"Camila\", idade=12),\n",
    "    Row(nome=\"Alice\", idade=24),\n",
    "    Row(nome=\"Marlei\", idade=32),\n",
    "    Row(nome=\"Marilene\", idade=56),\n",
    "    Row(nome=\"Judite\", idade=60),\n",
    "])"
   ]
  },
  {
   "cell_type": "markdown",
   "metadata": {},
   "source": [
    "Salvaremos o DataFrame como um arquivo Parquet."
   ]
  },
  {
   "cell_type": "code",
   "execution_count": 4,
   "metadata": {},
   "outputs": [],
   "source": [
    "pessoas_df.write.parquet(\"pessoas.parquet\")"
   ]
  },
  {
   "cell_type": "markdown",
   "metadata": {},
   "source": [
    "\n",
    "Carregaremos o arquivo Parquet que acabamos de criar para efetuar algumas consultas, todas informações são preservadas."
   ]
  },
  {
   "cell_type": "code",
   "execution_count": 5,
   "metadata": {},
   "outputs": [],
   "source": [
    "parquet_df = spark.read.parquet(\"pessoas.parquet\")"
   ]
  },
  {
   "cell_type": "markdown",
   "metadata": {},
   "source": [
    "Criaremos uma View temporária para executar alguns comandos SQL."
   ]
  },
  {
   "cell_type": "code",
   "execution_count": 6,
   "metadata": {},
   "outputs": [],
   "source": [
    "parquet_df.createOrReplaceTempView(\"pessoasView\")"
   ]
  },
  {
   "cell_type": "markdown",
   "metadata": {},
   "source": [
    "Listaremos todos os itens salvos no Parquet para conferir com o que criamos inicialmente."
   ]
  },
  {
   "cell_type": "code",
   "execution_count": 7,
   "metadata": {
    "scrolled": true
   },
   "outputs": [
    {
     "name": "stdout",
     "output_type": "stream",
     "text": [
      "+--------+-----+\n",
      "|    nome|idade|\n",
      "+--------+-----+\n",
      "| Ricardo|   23|\n",
      "| Marcelo|   18|\n",
      "|  Marlei|   32|\n",
      "|Marilene|   56|\n",
      "|  Judite|   60|\n",
      "|   Pedro|   15|\n",
      "|  Camila|   12|\n",
      "|   Alice|   24|\n",
      "|    Alex|   38|\n",
      "|  Otavio|   44|\n",
      "|    João|   30|\n",
      "|   Maria|   19|\n",
      "+--------+-----+\n"
     ]
    }
   ],
   "source": [
    "todas_pessoas = spark.sql(\"SELECT nome, idade FROM pessoasView\")\n",
    "todas_pessoas.show()"
   ]
  },
  {
   "cell_type": "markdown",
   "metadata": {},
   "source": [
    "Podemos efetuar outras pesquisas, como busca todas pessoas maiores de idade."
   ]
  },
  {
   "cell_type": "code",
   "execution_count": 8,
   "metadata": {},
   "outputs": [
    {
     "name": "stdout",
     "output_type": "stream",
     "text": [
      "+--------+-----+\n",
      "|    nome|idade|\n",
      "+--------+-----+\n",
      "| Ricardo|   23|\n",
      "| Marcelo|   18|\n",
      "|  Marlei|   32|\n",
      "|Marilene|   56|\n",
      "|  Judite|   60|\n",
      "|   Alice|   24|\n",
      "|    Alex|   38|\n",
      "|  Otavio|   44|\n",
      "|    João|   30|\n",
      "|   Maria|   19|\n",
      "+--------+-----+\n"
     ]
    }
   ],
   "source": [
    "maiores_de_idade = spark.sql(\"SELECT nome, idade FROM pessoasView WHERE idade >= 18\")\n",
    "maiores_de_idade.show()"
   ]
  },
  {
   "cell_type": "markdown",
   "metadata": {},
   "source": [
    "Por fim, encerramos a sessão com o Spark."
   ]
  },
  {
   "cell_type": "code",
   "execution_count": 9,
   "metadata": {},
   "outputs": [],
   "source": [
    "spark.stop()"
   ]
  }
 ],
 "metadata": {
  "kernelspec": {
   "display_name": "Python 3",
   "language": "python",
   "name": "python3"
  },
  "language_info": {
   "codemirror_mode": {
    "name": "ipython",
    "version": 3
   },
   "file_extension": ".py",
   "mimetype": "text/x-python",
   "name": "python",
   "nbconvert_exporter": "python",
   "pygments_lexer": "ipython3",
   "version": "3.8.2"
  }
 },
 "nbformat": 4,
 "nbformat_minor": 4
}
